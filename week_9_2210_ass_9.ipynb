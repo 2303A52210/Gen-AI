{
  "nbformat": 4,
  "nbformat_minor": 0,
  "metadata": {
    "colab": {
      "provenance": [],
      "authorship_tag": "ABX9TyPk7WMWN+Bs1SafI6WGuQsu",
      "include_colab_link": true
    },
    "kernelspec": {
      "name": "python3",
      "display_name": "Python 3"
    },
    "language_info": {
      "name": "python"
    }
  },
  "cells": [
    {
      "cell_type": "markdown",
      "metadata": {
        "id": "view-in-github",
        "colab_type": "text"
      },
      "source": [
        "<a href=\"https://colab.research.google.com/github/2303A52210/Gen-AI/blob/main/week_9_2210_ass_9.ipynb\" target=\"_parent\"><img src=\"https://colab.research.google.com/assets/colab-badge.svg\" alt=\"Open In Colab\"/></a>"
      ]
    },
    {
      "cell_type": "code",
      "execution_count": 1,
      "metadata": {
        "colab": {
          "base_uri": "https://localhost:8080/"
        },
        "id": "OE_4UQjFqJQK",
        "outputId": "eaa57418-660b-4328-b818-3ca15f9db370"
      },
      "outputs": [
        {
          "output_type": "stream",
          "name": "stdout",
          "text": [
            "Downloading data from https://storage.googleapis.com/tensorflow/tf-keras-datasets/mnist.npz\n",
            "\u001b[1m11490434/11490434\u001b[0m \u001b[32m━━━━━━━━━━━━━━━━━━━━\u001b[0m\u001b[37m\u001b[0m \u001b[1m0s\u001b[0m 0us/step\n"
          ]
        },
        {
          "output_type": "stream",
          "name": "stderr",
          "text": [
            "/usr/local/lib/python3.11/dist-packages/keras/src/layers/core/dense.py:87: UserWarning: Do not pass an `input_shape`/`input_dim` argument to a layer. When using Sequential models, prefer using an `Input(shape)` object as the first layer in the model instead.\n",
            "  super().__init__(activity_regularizer=activity_regularizer, **kwargs)\n"
          ]
        },
        {
          "output_type": "stream",
          "name": "stdout",
          "text": [
            "Epoch 1/10\n",
            "\u001b[1m469/469\u001b[0m \u001b[32m━━━━━━━━━━━━━━━━━━━━\u001b[0m\u001b[37m\u001b[0m \u001b[1m7s\u001b[0m 10ms/step - accuracy: 0.1239 - loss: 2.3503 - val_accuracy: 0.1386 - val_loss: 2.3327\n",
            "Epoch 2/10\n",
            "\u001b[1m469/469\u001b[0m \u001b[32m━━━━━━━━━━━━━━━━━━━━\u001b[0m\u001b[37m\u001b[0m \u001b[1m3s\u001b[0m 6ms/step - accuracy: 0.1415 - loss: 2.3277 - val_accuracy: 0.1600 - val_loss: 2.3141\n",
            "Epoch 3/10\n",
            "\u001b[1m469/469\u001b[0m \u001b[32m━━━━━━━━━━━━━━━━━━━━\u001b[0m\u001b[37m\u001b[0m \u001b[1m6s\u001b[0m 7ms/step - accuracy: 0.1653 - loss: 2.3118 - val_accuracy: 0.1822 - val_loss: 2.2981\n",
            "Epoch 4/10\n",
            "\u001b[1m469/469\u001b[0m \u001b[32m━━━━━━━━━━━━━━━━━━━━\u001b[0m\u001b[37m\u001b[0m \u001b[1m2s\u001b[0m 5ms/step - accuracy: 0.1872 - loss: 2.2956 - val_accuracy: 0.2036 - val_loss: 2.2842\n",
            "Epoch 5/10\n",
            "\u001b[1m469/469\u001b[0m \u001b[32m━━━━━━━━━━━━━━━━━━━━\u001b[0m\u001b[37m\u001b[0m \u001b[1m2s\u001b[0m 4ms/step - accuracy: 0.2058 - loss: 2.2841 - val_accuracy: 0.2230 - val_loss: 2.2714\n",
            "Epoch 6/10\n",
            "\u001b[1m469/469\u001b[0m \u001b[32m━━━━━━━━━━━━━━━━━━━━\u001b[0m\u001b[37m\u001b[0m \u001b[1m3s\u001b[0m 4ms/step - accuracy: 0.2274 - loss: 2.2707 - val_accuracy: 0.2371 - val_loss: 2.2591\n",
            "Epoch 7/10\n",
            "\u001b[1m469/469\u001b[0m \u001b[32m━━━━━━━━━━━━━━━━━━━━\u001b[0m\u001b[37m\u001b[0m \u001b[1m2s\u001b[0m 4ms/step - accuracy: 0.2428 - loss: 2.2574 - val_accuracy: 0.2491 - val_loss: 2.2470\n",
            "Epoch 8/10\n",
            "\u001b[1m469/469\u001b[0m \u001b[32m━━━━━━━━━━━━━━━━━━━━\u001b[0m\u001b[37m\u001b[0m \u001b[1m3s\u001b[0m 6ms/step - accuracy: 0.2549 - loss: 2.2455 - val_accuracy: 0.2576 - val_loss: 2.2345\n",
            "Epoch 9/10\n",
            "\u001b[1m469/469\u001b[0m \u001b[32m━━━━━━━━━━━━━━━━━━━━\u001b[0m\u001b[37m\u001b[0m \u001b[1m6s\u001b[0m 7ms/step - accuracy: 0.2615 - loss: 2.2326 - val_accuracy: 0.2622 - val_loss: 2.2215\n",
            "Epoch 10/10\n",
            "\u001b[1m469/469\u001b[0m \u001b[32m━━━━━━━━━━━━━━━━━━━━\u001b[0m\u001b[37m\u001b[0m \u001b[1m4s\u001b[0m 7ms/step - accuracy: 0.2657 - loss: 2.2195 - val_accuracy: 0.2660 - val_loss: 2.2077\n",
            "Training Accuracy: 0.2695\n",
            "Testing Accuracy: 0.2660\n"
          ]
        }
      ],
      "source": [
        "import numpy as np\n",
        "import tensorflow as tf\n",
        "from tensorflow import keras\n",
        "from tensorflow.keras import layers\n",
        "from tensorflow.keras.datasets import mnist\n",
        "\n",
        "(x_train, y_train), (x_test, y_test) = mnist.load_data()\n",
        "\n",
        "x_train = x_train.reshape(-1, 28*28).astype(\"float32\") / 255.0\n",
        "x_test = x_test.reshape(-1, 28*28).astype(\"float32\") / 255.0\n",
        "y_train = keras.utils.to_categorical(y_train, 10)\n",
        "y_test = keras.utils.to_categorical(y_test, 10)\n",
        "\n",
        "model = keras.Sequential([\n",
        "    layers.Dense(32, activation='relu', input_shape=(784,), name='hidden_layer_1'),\n",
        "    layers.Dense(32, activation='relu', name='hidden_layer_2'),\n",
        "    layers.Dense(32, activation='relu', name='hidden_layer_3'),\n",
        "    layers.Dense(10, activation='softmax', name='output_layer')\n",
        "])\n",
        "\n",
        "model.compile(\n",
        "    optimizer='adadelta',\n",
        "    loss='categorical_crossentropy',\n",
        "    metrics=['accuracy']\n",
        ")\n",
        "\n",
        "history = model.fit(\n",
        "    x_train, y_train,\n",
        "    batch_size=128,\n",
        "    epochs=10,\n",
        "    validation_data=(x_test, y_test)\n",
        ")\n",
        "\n",
        "train_loss, train_acc = model.evaluate(x_train, y_train, verbose=0)\n",
        "test_loss, test_acc = model.evaluate(x_test, y_test, verbose=0)\n",
        "\n",
        "print(f\"Training Accuracy: {train_acc:.4f}\")\n",
        "print(f\"Testing Accuracy: {test_acc:.4f}\")"
      ]
    },
    {
      "cell_type": "code",
      "source": [
        "def build_model(hidden_layers=3, neurons=32, activation='relu'):\n",
        "    model = keras.Sequential()\n",
        "    model.add(layers.Dense(neurons, activation=activation, input_shape=(784,)))\n",
        "\n",
        "    for i in range(hidden_layers - 1):\n",
        "        model.add(layers.Dense(neurons, activation=activation))\n",
        "\n",
        "    model.add(layers.Dense(10, activation='softmax'))\n",
        "    model.compile(optimizer='adadelta', loss='categorical_crossentropy', metrics=['accuracy'])\n",
        "    return model\n",
        "\n",
        "architectures = [\n",
        "    {'hidden_layers': 2, 'neurons': 32, 'activation': 'relu'},\n",
        "    {'hidden_layers': 3, 'neurons': 32, 'activation': 'relu'},\n",
        "    {'hidden_layers': 4, 'neurons': 32, 'activation': 'relu'},\n",
        "    {'hidden_layers': 3, 'neurons': 64, 'activation': 'relu'},\n",
        "    {'hidden_layers': 3, 'neurons': 128, 'activation': 'relu'},\n",
        "    {'hidden_layers': 3, 'neurons': 32, 'activation': 'sigmoid'},\n",
        "    {'hidden_layers': 3, 'neurons': 32, 'activation': 'tanh'},\n",
        "]\n",
        "\n",
        "results = []\n",
        "\n",
        "for config in architectures:\n",
        "    print(f\"\\nTesting configuration: {config}\")\n",
        "    model = build_model(**config)\n",
        "    history = model.fit(\n",
        "        x_train, y_train,\n",
        "        batch_size=128,\n",
        "        epochs=10,\n",
        "        validation_data=(x_test, y_test),\n",
        "        verbose=0\n",
        "    )\n",
        "    test_acc = history.history['val_accuracy'][-1]\n",
        "    results.append((config, test_acc))\n",
        "    print(f\"Test Accuracy: {test_acc:.4f}\")\n",
        "\n",
        "best_config, best_acc = max(results, key=lambda x: x[1])\n",
        "print(f\"\\nBest Architecture: {best_config}\")\n",
        "print(f\"Best Test Accuracy: {best_acc:.4f}\")"
      ],
      "metadata": {
        "colab": {
          "base_uri": "https://localhost:8080/"
        },
        "id": "3A3Mxf_AqjeV",
        "outputId": "49e6a213-ccaf-499b-d493-ee884bd82cc7"
      },
      "execution_count": 2,
      "outputs": [
        {
          "output_type": "stream",
          "name": "stdout",
          "text": [
            "\n",
            "Testing configuration: {'hidden_layers': 2, 'neurons': 32, 'activation': 'relu'}\n",
            "Test Accuracy: 0.4136\n",
            "\n",
            "Testing configuration: {'hidden_layers': 3, 'neurons': 32, 'activation': 'relu'}\n",
            "Test Accuracy: 0.3012\n",
            "\n",
            "Testing configuration: {'hidden_layers': 4, 'neurons': 32, 'activation': 'relu'}\n",
            "Test Accuracy: 0.3078\n",
            "\n",
            "Testing configuration: {'hidden_layers': 3, 'neurons': 64, 'activation': 'relu'}\n",
            "Test Accuracy: 0.3361\n",
            "\n",
            "Testing configuration: {'hidden_layers': 3, 'neurons': 128, 'activation': 'relu'}\n",
            "Test Accuracy: 0.6043\n",
            "\n",
            "Testing configuration: {'hidden_layers': 3, 'neurons': 32, 'activation': 'sigmoid'}\n",
            "Test Accuracy: 0.0958\n",
            "\n",
            "Testing configuration: {'hidden_layers': 3, 'neurons': 32, 'activation': 'tanh'}\n",
            "Test Accuracy: 0.4530\n",
            "\n",
            "Best Architecture: {'hidden_layers': 3, 'neurons': 128, 'activation': 'relu'}\n",
            "Best Test Accuracy: 0.6043\n"
          ]
        }
      ]
    }
  ]
}