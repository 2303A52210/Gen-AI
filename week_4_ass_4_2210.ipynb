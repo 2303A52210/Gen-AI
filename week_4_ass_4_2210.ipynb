{
  "nbformat": 4,
  "nbformat_minor": 0,
  "metadata": {
    "colab": {
      "provenance": [],
      "authorship_tag": "ABX9TyMydo/FAfIxUJo0UvknzjdD",
      "include_colab_link": true
    },
    "kernelspec": {
      "name": "python3",
      "display_name": "Python 3"
    },
    "language_info": {
      "name": "python"
    }
  },
  "cells": [
    {
      "cell_type": "markdown",
      "metadata": {
        "id": "view-in-github",
        "colab_type": "text"
      },
      "source": [
        "<a href=\"https://colab.research.google.com/github/2303A52210/Gen-AI/blob/main/week_4_ass_4_2210.ipynb\" target=\"_parent\"><img src=\"https://colab.research.google.com/assets/colab-badge.svg\" alt=\"Open In Colab\"/></a>"
      ]
    },
    {
      "cell_type": "markdown",
      "source": [
        "1. (1 ponto) Design a simple ANN architecture with one input and one output layer (no hidden\n",
        "layer). Assume a linear activation function in the output layer.\n",
        "• Write Python code for a backpropagation algorithm with gradient descent optimization to\n",
        "update weights and bias parameters of the ANN model with training data shown in Table\n",
        "1.\n",
        "• Calculate the mean square error with training and testing data shown in Table 2.\n",
        "• Write Python code that reads the input data [x1, x2, and x3] from the user. Predict the\n",
        "output with deployed ANN model\n",
        "Tabela 1: Training Data\n",
        "x1 x2 x3 y\n",
        "0.1 0.2 0.3 0.14\n",
        "0.2 0.3 0.4 0.20\n",
        "0.3 0.4 0.5 0.26\n",
        "0.5 0.6 0.7 0.38\n",
        "0.1 0.3 0.5 0.22\n",
        "0.2 0.4 0.6 0.28\n",
        "0.3 0.5 0.7 0.34\n",
        "0.4 0.6 0.8 0.40\n",
        "0.5 0.7 0.1 0.22\n",
        "Tabela 2: Test Data\n",
        "x1 x2 x3 y\n",
        "0.6 0.7 0.8 0.44\n",
        "0.7 0.8 0.9 0.50\n"
      ],
      "metadata": {
        "id": "S2dDWB7fIPaJ"
      }
    },
    {
      "cell_type": "code",
      "source": [
        "import numpy as np\n",
        "\n",
        "X_train = np.array([[0.1, 0.2, 0.3],\n",
        "                    [0.2, 0.3, 0.4],\n",
        "                    [0.3, 0.4, 0.5],\n",
        "                    [0.5, 0.6, 0.7],\n",
        "                    [0.1, 0.3, 0.5],\n",
        "                    [0.2, 0.4, 0.6],\n",
        "                    [0.3, 0.5, 0.7],\n",
        "                    [0.4, 0.6, 0.8],\n",
        "                    [0.5, 0.7, 0.1]])\n",
        "y_train = np.array([0.14, 0.20, 0.26, 0.38, 0.22, 0.28, 0.34, 0.40, 0.22])\n",
        "\n",
        "weights = np.random.rand(3)\n",
        "bias = np.random.rand(1)\n",
        "learning_rate = 0.01\n",
        "\n",
        "for epoch in range(1000):\n",
        "    y_pred = np.dot(X_train, weights) + bias\n",
        "\n",
        "    error = y_pred - y_train\n",
        "\n",
        "    weights_gradient = np.dot(X_train.T, error) / len(y_train)\n",
        "    bias_gradient = np.sum(error) / len(y_train)\n",
        "\n",
        "    weights -= learning_rate * weights_gradient\n",
        "    bias -= learning_rate * bias_gradient\n",
        "\n",
        "def mean_square_error(y_true, y_pred):\n",
        "    return np.mean((y_true - y_pred) ** 2)\n",
        "\n",
        "X_test = np.array([[0.6, 0.7, 0.8],\n",
        "                   [0.7, 0.8, 0.9]])\n",
        "y_test = np.array([0.44, 0.50])\n",
        "\n",
        "y_test_pred = np.dot(X_test, weights) + bias\n",
        "mse_test = mean_square_error(y_test, y_test_pred)\n",
        "\n",
        "print(\"Weights:\", weights)\n",
        "print(\"Bias:\", bias)\n",
        "print(\"Mean Square Error on Test Data:\", mse_test)\n",
        "\n",
        "user_input = list(map(float, input(\"Enter x1, x2, x3 separated by space: \").split()))\n",
        "predicted_output = np.dot(user_input, weights) + bias\n",
        "print(\"Predicted Output:\", predicted_output)"
      ],
      "metadata": {
        "colab": {
          "base_uri": "https://localhost:8080/"
        },
        "id": "Q0L8-4L8MdW5",
        "outputId": "0034e7f1-53bc-44ab-fa46-cd7e7c7c5240"
      },
      "execution_count": 18,
      "outputs": [
        {
          "output_type": "stream",
          "name": "stdout",
          "text": [
            "Weights: [0.54375833 0.05702685 0.42406391]\n",
            "Bias: [-0.13339405]\n",
            "Mean Square Error on Test Data: 0.023943951864407412\n",
            "Enter x1, x2, x3 separated by space: 0.1 0.2 0.3\n",
            "Predicted Output: [0.05960632]\n"
          ]
        }
      ]
    },
    {
      "cell_type": "markdown",
      "source": [
        "2. (1 ponto) Design a simple ANN architecture with one input and one output layer (no hidden\n",
        "layer). Assume a sigmoid activation function shown in the equation 1 in the output layer.\n",
        "f (x) = 1\n",
        "1 + e−x (1)\n",
        "• Write Python code for a backpropagation algorithm with gradient descent optimization to\n",
        "update weights and bias parameters of the ANN model with training data shown in Table\n",
        "3.\n",
        "©Dr. Venkataramana Veeramsetty, Professor Pag. 1 de 2\n",
        "II - B.Tech (CS& AI) Generative AI - Assignment - 4\n",
        "Tabela 3: Training Data\n",
        "x1 x2 x3 y\n",
        "0.1 0.2 0.3 0.5349\n",
        "0.2 0.3 0.4 0.5498\n",
        "0.3 0.4 0.5 0.5646\n",
        "0.5 0.6 0.7 0.5939\n",
        "0.1 0.3 0.5 0.5548\n",
        "0.2 0.4 0.6 0.5695\n",
        "0.3 0.5 0.7 0.5842\n",
        "0.4 0.6 0.8 0.5987\n",
        "0.5 0.7 0.1 0.5548\n",
        "Tabela 4: Test Data\n",
        "x1 x2 x3 y\n",
        "0.6 0.7 0.8 0.6083\n",
        "0.7 0.8 0.9 0.6225\n",
        "• Calculate the mean square error with training and testing data shown in Table\n"
      ],
      "metadata": {
        "id": "yoMVq6RCMn2B"
      }
    },
    {
      "cell_type": "code",
      "source": [
        "import numpy as np\n",
        "\n",
        "def sigmoid(x):\n",
        "    return 1 / (1 + np.exp(-x))\n",
        "\n",
        "def sigmoid_derivative(x):\n",
        "    return x * (1 - x)\n",
        "\n",
        "X_train_sigmoid = np.array([[0.1, 0.2, 0.3],\n",
        "                             [0.2, 0.3, 0.4],\n",
        "                             [0.3, 0.4, 0.5],\n",
        "                             [0.5, 0.6, 0.7],\n",
        "                             [0.1, 0.3, 0.5],\n",
        "                             [0.2, 0.4, 0.6],\n",
        "                             [0.3, 0.5, 0.7],\n",
        "                             [0.4, 0.6, 0.8],\n",
        "                             [0.5, 0.7, 0.1]])\n",
        "y_train_sigmoid = np.array([0.5349, 0.5498, 0.5646, 0.5939, 0.5548, 0.5695, 0.5842, 0.5987, 0.5548])\n",
        "\n",
        "weights_sigmoid = np.random.rand(3)\n",
        "bias_sigmoid = np.random.rand(1)\n",
        "learning_rate = 0.01\n",
        "for epoch in range(1000):\n",
        "    linear_output = np.dot(X_train_sigmoid, weights_sigmoid) + bias_sigmoid\n",
        "    y_pred_sigmoid = sigmoid(linear_output)\n",
        "\n",
        "    error_sigmoid = y_pred_sigmoid - y_train_sigmoid\n",
        "\n",
        "    weights_gradient_sigmoid = np.dot(X_train_sigmoid.T, error_sigmoid * sigmoid_derivative(y_pred_sigmoid)) / len(y_train_sigmoid)\n",
        "    bias_gradient_sigmoid = np.sum(error_sigmoid * sigmoid_derivative(y_pred_sigmoid)) / len(y_train_sigmoid)\n",
        "\n",
        "    weights_sigmoid -= learning_rate * weights_gradient_sigmoid\n",
        "    bias_sigmoid -= learning_rate * bias_gradient_sigmoid\n",
        "\n",
        "def mean_square_error(y_true, y_pred):\n",
        "    return np.mean((y_true - y_pred) ** 2)\n",
        "\n",
        "X_test_sigmoid = np.array([[0.6, 0.7, 0.8],\n",
        "                            [0.7, 0.8, 0.9]])\n",
        "y_test_sigmoid = np.array([0.6083, 0.6225])\n",
        "\n",
        "linear_test_output = np.dot(X_test_sigmoid, weights_sigmoid) + bias_sigmoid\n",
        "y_test_pred_sigmoid = sigmoid(linear_test_output)\n",
        "mse_test_sigmoid = mean_square_error(y_test_sigmoid, y_test_pred_sigmoid)\n",
        "\n",
        "print(\"Weights (Sigmoid):\", weights_sigmoid)\n",
        "print(\"Bias (Sigmoid):\", bias_sigmoid)\n",
        "print(\"Mean Square Error on Test Data (Sigmoid):\", mse_test_sigmoid)\n",
        "\n",
        "user_input_sigmoid = list(map(float, input(\"Enter x1, x2, x3 for Sigmoid model separated by space: \").split()))\n",
        "predicted_output_sigmoid = sigmoid(np.dot(user_input_sigmoid, weights_sigmoid) + bias_sigmoid)\n",
        "print(\"Predicted Output (Sigmoid):\", predicted_output_sigmoid)"
      ],
      "metadata": {
        "colab": {
          "base_uri": "https://localhost:8080/"
        },
        "id": "ZEj3z_h4Nm_x",
        "outputId": "61bc787f-8b3f-4696-c648-5a9c80de4700"
      },
      "execution_count": 19,
      "outputs": [
        {
          "output_type": "stream",
          "name": "stdout",
          "text": [
            "Weights (Sigmoid): [0.29126735 0.76139486 0.30472928]\n",
            "Bias (Sigmoid): [0.18969885]\n",
            "Mean Square Error on Test Data (Sigmoid): 0.023899798158307506\n",
            "Enter x1, x2, x3 for Sigmoid model separated by space: 0.4 0.5 0.6\n",
            "Predicted Output (Sigmoid): [0.70469176]\n"
          ]
        }
      ]
    }
  ]
}