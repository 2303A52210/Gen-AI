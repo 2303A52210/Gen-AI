{
  "nbformat": 4,
  "nbformat_minor": 0,
  "metadata": {
    "colab": {
      "provenance": [],
      "authorship_tag": "ABX9TyM4W7DdRuG1WBZInu0AP9SD",
      "include_colab_link": true
    },
    "kernelspec": {
      "name": "python3",
      "display_name": "Python 3"
    },
    "language_info": {
      "name": "python"
    }
  },
  "cells": [
    {
      "cell_type": "markdown",
      "metadata": {
        "id": "view-in-github",
        "colab_type": "text"
      },
      "source": [
        "<a href=\"https://colab.research.google.com/github/2303A52210/Gen-AI/blob/main/week_5_2210_ass_5.ipynb\" target=\"_parent\"><img src=\"https://colab.research.google.com/assets/colab-badge.svg\" alt=\"Open In Colab\"/></a>"
      ]
    },
    {
      "cell_type": "code",
      "source": [
        "import numpy as np\n",
        "\n",
        "# Sigmoid Activation Function\n",
        "def sigmoid(x):\n",
        "    return 1 / (1 + np.exp(-x))\n",
        "\n",
        "# Derivative of Sigmoid Function\n",
        "def sigmoid_derivative(x):\n",
        "    return x * (1 - x)\n",
        "\n",
        "# Mean Square Error Function\n",
        "def mean_square_error(y_true, y_pred):\n",
        "    return np.mean((y_true - y_pred) ** 2)\n",
        "\n",
        "# Training Data\n",
        "training_data = np.array([\n",
        "    [0.1, 0.2, 0.3432],\n",
        "    [0.2, 0.3, 0.3490],\n",
        "    [0.3, 0.4, 0.3548],\n",
        "    [0.6, 0.7, 0.3720],\n",
        "    [0.7, 0.8, 0.3776],\n",
        "    [0.8, 0.9, 0.3832]\n",
        "])\n",
        "\n",
        "# Testing Data\n",
        "testing_data = np.array([\n",
        "    [0.4, 0.5, 0.3606],\n",
        "    [0.5, 0.6, 0.3663]\n",
        "])\n",
        "\n",
        "# Initialize weights and biases\n",
        "np.random.seed(42)\n",
        "weights_input_hidden = np.random.rand(2, 2)\n",
        "weights_hidden_output = np.random.rand(2, 1)\n",
        "bias_hidden = np.random.rand(1, 2)\n",
        "bias_output = np.random.rand(1, 1)\n",
        "learning_rate = 0.1\n",
        "epochs = 10000\n",
        "\n",
        "# Training the ANN with backpropagation\n",
        "for epoch in range(epochs):\n",
        "    # Forward propagation\n",
        "    inputs = training_data[:, 0:2]\n",
        "    hidden_layer_activation = np.dot(inputs, weights_input_hidden) + bias_hidden\n",
        "    hidden_layer_output = sigmoid(hidden_layer_activation)\n",
        "    output_layer_activation = np.dot(hidden_layer_output, weights_hidden_output) + bias_output\n",
        "    predicted_output = output_layer_activation\n",
        "\n",
        "    # Calculate error\n",
        "    error = training_data[:, 2].reshape(-1, 1) - predicted_output\n",
        "    mean_error = mean_square_error(training_data[:, 2].reshape(-1, 1), predicted_output)\n",
        "\n",
        "    # Backpropagation\n",
        "    d_predicted_output = error\n",
        "    d_weights_hidden_output = np.dot(hidden_layer_output.T, d_predicted_output)\n",
        "    d_bias_output = np.sum(d_predicted_output, axis=0, keepdims=True)\n",
        "\n",
        "    d_hidden_layer = np.dot(d_predicted_output, weights_hidden_output.T) * sigmoid_derivative(hidden_layer_output)\n",
        "    d_weights_input_hidden = np.dot(inputs.T, d_hidden_layer)\n",
        "    d_bias_hidden = np.sum(d_hidden_layer, axis=0, keepdims=True)\n",
        "\n",
        "    # Update weights and biases\n",
        "    weights_input_hidden += learning_rate * d_weights_input_hidden\n",
        "    weights_hidden_output += learning_rate * d_weights_hidden_output\n",
        "    bias_hidden += learning_rate * d_bias_hidden\n",
        "    bias_output += learning_rate * d_bias_output\n",
        "\n",
        "# Calculate mean square error with testing data\n",
        "test_inputs = testing_data[:, 0:2]\n",
        "hidden_layer_activation = np.dot(test_inputs, weights_input_hidden) + bias_hidden\n",
        "hidden_layer_output = sigmoid(hidden_layer_activation)\n",
        "output_layer_activation = np.dot(hidden_layer_output, weights_hidden_output) + bias_output\n",
        "test_predicted_output = output_layer_activation\n",
        "test_mean_error = mean_square_error(testing_data[:, 2].reshape(-1, 1), test_predicted_output)\n",
        "\n",
        "print(f\"Mean Square Error on Training Data: {mean_error}\")\n",
        "print(f\"Mean Square Error on Testing Data: {test_mean_error}\")\n",
        "\n",
        "# Function to predict output with deployed ANN model\n",
        "def predict(x1, x2):\n",
        "    inputs = np.array([[x1, x2]])\n",
        "    hidden_layer_activation = np.dot(inputs, weights_input_hidden) + bias_hidden\n",
        "    hidden_layer_output = sigmoid(hidden_layer_activation)\n",
        "    output_layer_activation = np.dot(hidden_layer_output, weights_hidden_output) + bias_output\n",
        "    predicted_output = output_layer_activation\n",
        "    return predicted_output\n",
        "\n",
        "# Get user input and predict output\n",
        "x1 = float(input(\"Enter x1: \"))\n",
        "x2 = float(input(\"Enter x2: \"))\n",
        "predicted_output = predict(x1, x2)\n",
        "print(f\"Predicted Output: {predicted_output[0][0]}\")\n",
        "\n"
      ],
      "metadata": {
        "colab": {
          "base_uri": "https://localhost:8080/"
        },
        "id": "QlDS6x4eQsAF",
        "outputId": "1009a598-3fc5-4afa-d60a-60021ee7bb6f"
      },
      "execution_count": 3,
      "outputs": [
        {
          "output_type": "stream",
          "name": "stdout",
          "text": [
            "Mean Square Error on Training Data: 2.2823796096945128e-07\n",
            "Mean Square Error on Testing Data: 5.821504924320002e-07\n",
            "Enter x1: 0.2\n",
            "Enter x2: 0.2\n",
            "Predicted Output: 0.34529634889034777\n"
          ]
        }
      ]
    }
  ]
}