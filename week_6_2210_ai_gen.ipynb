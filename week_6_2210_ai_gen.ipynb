{
  "nbformat": 4,
  "nbformat_minor": 0,
  "metadata": {
    "colab": {
      "provenance": [],
      "authorship_tag": "ABX9TyM0nRFvhD3iRA79vyiHcTL0",
      "include_colab_link": true
    },
    "kernelspec": {
      "name": "python3",
      "display_name": "Python 3"
    },
    "language_info": {
      "name": "python"
    }
  },
  "cells": [
    {
      "cell_type": "markdown",
      "metadata": {
        "id": "view-in-github",
        "colab_type": "text"
      },
      "source": [
        "<a href=\"https://colab.research.google.com/github/2303A52210/Gen-AI/blob/main/week_6_2210_ai_gen.ipynb\" target=\"_parent\"><img src=\"https://colab.research.google.com/assets/colab-badge.svg\" alt=\"Open In Colab\"/></a>"
      ]
    },
    {
      "cell_type": "code",
      "execution_count": 1,
      "metadata": {
        "id": "Yt8xUnDvNRtC"
      },
      "outputs": [],
      "source": [
        "import numpy as np\n",
        "import pandas as pd\n",
        "from sklearn.model_selection import train_test_split\n",
        "from sklearn.preprocessing import StandardScaler\n",
        "from keras.models import Sequential\n",
        "from keras.layers import Dense\n",
        "from keras.optimizers import SGD\n",
        "from keras.metrics import MeanSquaredError"
      ]
    },
    {
      "cell_type": "code",
      "source": [
        "url = \"/content/Housing (1).csv\"\n",
        "data = pd.read_csv(url)\n",
        "\n",
        "X = data.drop('price', axis=1)\n",
        "y = data['price']\n",
        "\n",
        "X = pd.get_dummies(X, columns=['mainroad', 'guestroom', 'basement', 'hotwaterheating', 'airconditioning', 'prefarea', 'furnishingstatus'], drop_first=True)\n",
        "\n",
        "X_train, X_test, y_train, y_test = train_test_split(X, y, test_size=0.2, random_state=42)\n",
        "\n",
        "scaler = StandardScaler()\n",
        "numerical_features = X_train.select_dtypes(include=['number']).columns\n",
        "X_train[numerical_features] = scaler.fit_transform(X_train[numerical_features])\n",
        "X_test[numerical_features] = scaler.transform(X_test[numerical_features])"
      ],
      "metadata": {
        "id": "87TUT1HUNbA3"
      },
      "execution_count": 3,
      "outputs": []
    },
    {
      "cell_type": "code",
      "source": [
        "model = Sequential()\n",
        "\n",
        "model.add(Dense(units=15, activation='tanh', input_dim=X_train.shape[1]))\n",
        "\n",
        "\n",
        "model.add(Dense(units=20, activation='tanh'))\n",
        "\n",
        "model.add(Dense(units=15, activation='tanh'))\n",
        "\n",
        "model.add(Dense(units=1))\n",
        "\n",
        "optimizer = SGD(learning_rate=0.01)\n",
        "model.compile(optimizer=optimizer, loss='mean_squared_error', metrics=[MeanSquaredError()])"
      ],
      "metadata": {
        "colab": {
          "base_uri": "https://localhost:8080/"
        },
        "id": "N3kMnukjOFmp",
        "outputId": "8a585a43-5b0f-4808-cd1c-90657e3d006c"
      },
      "execution_count": 4,
      "outputs": [
        {
          "output_type": "stream",
          "name": "stderr",
          "text": [
            "/usr/local/lib/python3.11/dist-packages/keras/src/layers/core/dense.py:87: UserWarning: Do not pass an `input_shape`/`input_dim` argument to a layer. When using Sequential models, prefer using an `Input(shape)` object as the first layer in the model instead.\n",
            "  super().__init__(activity_regularizer=activity_regularizer, **kwargs)\n"
          ]
        }
      ]
    },
    {
      "cell_type": "code",
      "source": [
        "history = model.fit(X_train, y_train, epochs=100, batch_size=16, validation_split=0.2)"
      ],
      "metadata": {
        "colab": {
          "base_uri": "https://localhost:8080/"
        },
        "id": "Ay5l2JljPM7Z",
        "outputId": "9032b369-ed00-41ac-e4cd-8a74ea233e98"
      },
      "execution_count": 5,
      "outputs": [
        {
          "output_type": "stream",
          "name": "stdout",
          "text": [
            "Epoch 1/100\n",
            "\u001b[1m22/22\u001b[0m \u001b[32m━━━━━━━━━━━━━━━━━━━━\u001b[0m\u001b[37m\u001b[0m \u001b[1m1s\u001b[0m 23ms/step - loss: 11350769139712.0000 - mean_squared_error: 11350769139712.0000 - val_loss: 4802259451904.0000 - val_mean_squared_error: 4802259451904.0000\n",
            "Epoch 2/100\n",
            "\u001b[1m22/22\u001b[0m \u001b[32m━━━━━━━━━━━━━━━━━━━━\u001b[0m\u001b[37m\u001b[0m \u001b[1m0s\u001b[0m 17ms/step - loss: 3596600213504.0000 - mean_squared_error: 3596600213504.0000 - val_loss: 4010359390208.0000 - val_mean_squared_error: 4010359390208.0000\n",
            "Epoch 3/100\n",
            "\u001b[1m22/22\u001b[0m \u001b[32m━━━━━━━━━━━━━━━━━━━━\u001b[0m\u001b[37m\u001b[0m \u001b[1m0s\u001b[0m 11ms/step - loss: 3182114111488.0000 - mean_squared_error: 3182114111488.0000 - val_loss: 3827991052288.0000 - val_mean_squared_error: 3827991052288.0000\n",
            "Epoch 4/100\n",
            "\u001b[1m22/22\u001b[0m \u001b[32m━━━━━━━━━━━━━━━━━━━━\u001b[0m\u001b[37m\u001b[0m \u001b[1m0s\u001b[0m 10ms/step - loss: 3406913077248.0000 - mean_squared_error: 3406913077248.0000 - val_loss: 3670629941248.0000 - val_mean_squared_error: 3670629941248.0000\n",
            "Epoch 5/100\n",
            "\u001b[1m22/22\u001b[0m \u001b[32m━━━━━━━━━━━━━━━━━━━━\u001b[0m\u001b[37m\u001b[0m \u001b[1m0s\u001b[0m 19ms/step - loss: 3364612997120.0000 - mean_squared_error: 3364612997120.0000 - val_loss: 3749655871488.0000 - val_mean_squared_error: 3749655871488.0000\n",
            "Epoch 6/100\n",
            "\u001b[1m22/22\u001b[0m \u001b[32m━━━━━━━━━━━━━━━━━━━━\u001b[0m\u001b[37m\u001b[0m \u001b[1m0s\u001b[0m 11ms/step - loss: 3030799089664.0000 - mean_squared_error: 3030799089664.0000 - val_loss: 3729710120960.0000 - val_mean_squared_error: 3729710120960.0000\n",
            "Epoch 7/100\n",
            "\u001b[1m22/22\u001b[0m \u001b[32m━━━━━━━━━━━━━━━━━━━━\u001b[0m\u001b[37m\u001b[0m \u001b[1m0s\u001b[0m 10ms/step - loss: 3575957946368.0000 - mean_squared_error: 3575957946368.0000 - val_loss: 3562275078144.0000 - val_mean_squared_error: 3562275078144.0000\n",
            "Epoch 8/100\n",
            "\u001b[1m22/22\u001b[0m \u001b[32m━━━━━━━━━━━━━━━━━━━━\u001b[0m\u001b[37m\u001b[0m \u001b[1m0s\u001b[0m 9ms/step - loss: 3078457655296.0000 - mean_squared_error: 3078457655296.0000 - val_loss: 3655202504704.0000 - val_mean_squared_error: 3655202504704.0000\n",
            "Epoch 9/100\n",
            "\u001b[1m22/22\u001b[0m \u001b[32m━━━━━━━━━━━━━━━━━━━━\u001b[0m\u001b[37m\u001b[0m \u001b[1m0s\u001b[0m 10ms/step - loss: 3572152664064.0000 - mean_squared_error: 3572152664064.0000 - val_loss: 3540048936960.0000 - val_mean_squared_error: 3540048936960.0000\n",
            "Epoch 10/100\n",
            "\u001b[1m22/22\u001b[0m \u001b[32m━━━━━━━━━━━━━━━━━━━━\u001b[0m\u001b[37m\u001b[0m \u001b[1m0s\u001b[0m 10ms/step - loss: 3257486540800.0000 - mean_squared_error: 3257486540800.0000 - val_loss: 3589139070976.0000 - val_mean_squared_error: 3589139070976.0000\n",
            "Epoch 11/100\n",
            "\u001b[1m22/22\u001b[0m \u001b[32m━━━━━━━━━━━━━━━━━━━━\u001b[0m\u001b[37m\u001b[0m \u001b[1m0s\u001b[0m 10ms/step - loss: 3231784894464.0000 - mean_squared_error: 3231784894464.0000 - val_loss: 3837861822464.0000 - val_mean_squared_error: 3837861822464.0000\n",
            "Epoch 12/100\n",
            "\u001b[1m22/22\u001b[0m \u001b[32m━━━━━━━━━━━━━━━━━━━━\u001b[0m\u001b[37m\u001b[0m \u001b[1m0s\u001b[0m 13ms/step - loss: 3564321112064.0000 - mean_squared_error: 3564321112064.0000 - val_loss: 3563179737088.0000 - val_mean_squared_error: 3563179737088.0000\n",
            "Epoch 13/100\n",
            "\u001b[1m22/22\u001b[0m \u001b[32m━━━━━━━━━━━━━━━━━━━━\u001b[0m\u001b[37m\u001b[0m \u001b[1m0s\u001b[0m 17ms/step - loss: 2807166926848.0000 - mean_squared_error: 2807166926848.0000 - val_loss: 3590620446720.0000 - val_mean_squared_error: 3590620446720.0000\n",
            "Epoch 14/100\n",
            "\u001b[1m22/22\u001b[0m \u001b[32m━━━━━━━━━━━━━━━━━━━━\u001b[0m\u001b[37m\u001b[0m \u001b[1m0s\u001b[0m 9ms/step - loss: 3119653584896.0000 - mean_squared_error: 3119653584896.0000 - val_loss: 3641801179136.0000 - val_mean_squared_error: 3641801179136.0000\n",
            "Epoch 15/100\n",
            "\u001b[1m22/22\u001b[0m \u001b[32m━━━━━━━━━━━━━━━━━━━━\u001b[0m\u001b[37m\u001b[0m \u001b[1m0s\u001b[0m 9ms/step - loss: 2971968733184.0000 - mean_squared_error: 2971968733184.0000 - val_loss: 3523737026560.0000 - val_mean_squared_error: 3523737026560.0000\n",
            "Epoch 16/100\n",
            "\u001b[1m22/22\u001b[0m \u001b[32m━━━━━━━━━━━━━━━━━━━━\u001b[0m\u001b[37m\u001b[0m \u001b[1m0s\u001b[0m 10ms/step - loss: 3078199705600.0000 - mean_squared_error: 3078199705600.0000 - val_loss: 3557210980352.0000 - val_mean_squared_error: 3557210980352.0000\n",
            "Epoch 17/100\n",
            "\u001b[1m22/22\u001b[0m \u001b[32m━━━━━━━━━━━━━━━━━━━━\u001b[0m\u001b[37m\u001b[0m \u001b[1m0s\u001b[0m 9ms/step - loss: 3304154202112.0000 - mean_squared_error: 3304154202112.0000 - val_loss: 3630940028928.0000 - val_mean_squared_error: 3630940028928.0000\n",
            "Epoch 18/100\n",
            "\u001b[1m22/22\u001b[0m \u001b[32m━━━━━━━━━━━━━━━━━━━━\u001b[0m\u001b[37m\u001b[0m \u001b[1m0s\u001b[0m 9ms/step - loss: 3244249317376.0000 - mean_squared_error: 3244249317376.0000 - val_loss: 3799915167744.0000 - val_mean_squared_error: 3799915167744.0000\n",
            "Epoch 19/100\n",
            "\u001b[1m22/22\u001b[0m \u001b[32m━━━━━━━━━━━━━━━━━━━━\u001b[0m\u001b[37m\u001b[0m \u001b[1m0s\u001b[0m 14ms/step - loss: 3275177590784.0000 - mean_squared_error: 3275177590784.0000 - val_loss: 3573219590144.0000 - val_mean_squared_error: 3573219590144.0000\n",
            "Epoch 20/100\n",
            "\u001b[1m22/22\u001b[0m \u001b[32m━━━━━━━━━━━━━━━━━━━━\u001b[0m\u001b[37m\u001b[0m \u001b[1m0s\u001b[0m 8ms/step - loss: 3287936139264.0000 - mean_squared_error: 3287936139264.0000 - val_loss: 3625329885184.0000 - val_mean_squared_error: 3625329885184.0000\n",
            "Epoch 21/100\n",
            "\u001b[1m22/22\u001b[0m \u001b[32m━━━━━━━━━━━━━━━━━━━━\u001b[0m\u001b[37m\u001b[0m \u001b[1m0s\u001b[0m 5ms/step - loss: 3199259901952.0000 - mean_squared_error: 3199259901952.0000 - val_loss: 3616576634880.0000 - val_mean_squared_error: 3616576634880.0000\n",
            "Epoch 22/100\n",
            "\u001b[1m22/22\u001b[0m \u001b[32m━━━━━━━━━━━━━━━━━━━━\u001b[0m\u001b[37m\u001b[0m \u001b[1m0s\u001b[0m 5ms/step - loss: 3236879400960.0000 - mean_squared_error: 3236879400960.0000 - val_loss: 3521624932352.0000 - val_mean_squared_error: 3521624932352.0000\n",
            "Epoch 23/100\n",
            "\u001b[1m22/22\u001b[0m \u001b[32m━━━━━━━━━━━━━━━━━━━━\u001b[0m\u001b[37m\u001b[0m \u001b[1m0s\u001b[0m 5ms/step - loss: 3030196682752.0000 - mean_squared_error: 3030196682752.0000 - val_loss: 3527410712576.0000 - val_mean_squared_error: 3527410712576.0000\n",
            "Epoch 24/100\n",
            "\u001b[1m22/22\u001b[0m \u001b[32m━━━━━━━━━━━━━━━━━━━━\u001b[0m\u001b[37m\u001b[0m \u001b[1m0s\u001b[0m 5ms/step - loss: 2916842733568.0000 - mean_squared_error: 2916842733568.0000 - val_loss: 3579687731200.0000 - val_mean_squared_error: 3579687731200.0000\n",
            "Epoch 25/100\n",
            "\u001b[1m22/22\u001b[0m \u001b[32m━━━━━━━━━━━━━━━━━━━━\u001b[0m\u001b[37m\u001b[0m \u001b[1m0s\u001b[0m 5ms/step - loss: 3209137750016.0000 - mean_squared_error: 3209137750016.0000 - val_loss: 3683133161472.0000 - val_mean_squared_error: 3683133161472.0000\n",
            "Epoch 26/100\n",
            "\u001b[1m22/22\u001b[0m \u001b[32m━━━━━━━━━━━━━━━━━━━━\u001b[0m\u001b[37m\u001b[0m \u001b[1m0s\u001b[0m 6ms/step - loss: 2819319660544.0000 - mean_squared_error: 2819319660544.0000 - val_loss: 3782173523968.0000 - val_mean_squared_error: 3782173523968.0000\n",
            "Epoch 27/100\n",
            "\u001b[1m22/22\u001b[0m \u001b[32m━━━━━━━━━━━━━━━━━━━━\u001b[0m\u001b[37m\u001b[0m \u001b[1m0s\u001b[0m 6ms/step - loss: 3712171638784.0000 - mean_squared_error: 3712171638784.0000 - val_loss: 3524155146240.0000 - val_mean_squared_error: 3524155146240.0000\n",
            "Epoch 28/100\n",
            "\u001b[1m22/22\u001b[0m \u001b[32m━━━━━━━━━━━━━━━━━━━━\u001b[0m\u001b[37m\u001b[0m \u001b[1m0s\u001b[0m 6ms/step - loss: 3627925635072.0000 - mean_squared_error: 3627925635072.0000 - val_loss: 3593429057536.0000 - val_mean_squared_error: 3593429057536.0000\n",
            "Epoch 29/100\n",
            "\u001b[1m22/22\u001b[0m \u001b[32m━━━━━━━━━━━━━━━━━━━━\u001b[0m\u001b[37m\u001b[0m \u001b[1m0s\u001b[0m 5ms/step - loss: 2953397927936.0000 - mean_squared_error: 2953397927936.0000 - val_loss: 3514153828352.0000 - val_mean_squared_error: 3514153828352.0000\n",
            "Epoch 30/100\n",
            "\u001b[1m22/22\u001b[0m \u001b[32m━━━━━━━━━━━━━━━━━━━━\u001b[0m\u001b[37m\u001b[0m \u001b[1m0s\u001b[0m 5ms/step - loss: 4046697791488.0000 - mean_squared_error: 4046697791488.0000 - val_loss: 3497093234688.0000 - val_mean_squared_error: 3497093234688.0000\n",
            "Epoch 31/100\n",
            "\u001b[1m22/22\u001b[0m \u001b[32m━━━━━━━━━━━━━━━━━━━━\u001b[0m\u001b[37m\u001b[0m \u001b[1m0s\u001b[0m 5ms/step - loss: 2670564212736.0000 - mean_squared_error: 2670564212736.0000 - val_loss: 3674064551936.0000 - val_mean_squared_error: 3674064551936.0000\n",
            "Epoch 32/100\n",
            "\u001b[1m22/22\u001b[0m \u001b[32m━━━━━━━━━━━━━━━━━━━━\u001b[0m\u001b[37m\u001b[0m \u001b[1m0s\u001b[0m 7ms/step - loss: 2812315172864.0000 - mean_squared_error: 2812315172864.0000 - val_loss: 3485574103040.0000 - val_mean_squared_error: 3485574103040.0000\n",
            "Epoch 33/100\n",
            "\u001b[1m22/22\u001b[0m \u001b[32m━━━━━━━━━━━━━━━━━━━━\u001b[0m\u001b[37m\u001b[0m \u001b[1m0s\u001b[0m 6ms/step - loss: 2970571243520.0000 - mean_squared_error: 2970571243520.0000 - val_loss: 3587282567168.0000 - val_mean_squared_error: 3587282567168.0000\n",
            "Epoch 34/100\n",
            "\u001b[1m22/22\u001b[0m \u001b[32m━━━━━━━━━━━━━━━━━━━━\u001b[0m\u001b[37m\u001b[0m \u001b[1m0s\u001b[0m 7ms/step - loss: 2733261717504.0000 - mean_squared_error: 2733261717504.0000 - val_loss: 3494298779648.0000 - val_mean_squared_error: 3494298779648.0000\n",
            "Epoch 35/100\n",
            "\u001b[1m22/22\u001b[0m \u001b[32m━━━━━━━━━━━━━━━━━━━━\u001b[0m\u001b[37m\u001b[0m \u001b[1m0s\u001b[0m 6ms/step - loss: 3459973382144.0000 - mean_squared_error: 3459973382144.0000 - val_loss: 3489696317440.0000 - val_mean_squared_error: 3489696317440.0000\n",
            "Epoch 36/100\n",
            "\u001b[1m22/22\u001b[0m \u001b[32m━━━━━━━━━━━━━━━━━━━━\u001b[0m\u001b[37m\u001b[0m \u001b[1m0s\u001b[0m 6ms/step - loss: 3198342922240.0000 - mean_squared_error: 3198342922240.0000 - val_loss: 3490111553536.0000 - val_mean_squared_error: 3490111553536.0000\n",
            "Epoch 37/100\n",
            "\u001b[1m22/22\u001b[0m \u001b[32m━━━━━━━━━━━━━━━━━━━━\u001b[0m\u001b[37m\u001b[0m \u001b[1m0s\u001b[0m 5ms/step - loss: 2727271464960.0000 - mean_squared_error: 2727271464960.0000 - val_loss: 3556351148032.0000 - val_mean_squared_error: 3556351148032.0000\n",
            "Epoch 38/100\n",
            "\u001b[1m22/22\u001b[0m \u001b[32m━━━━━━━━━━━━━━━━━━━━\u001b[0m\u001b[37m\u001b[0m \u001b[1m0s\u001b[0m 5ms/step - loss: 3475805569024.0000 - mean_squared_error: 3475805569024.0000 - val_loss: 3534540242944.0000 - val_mean_squared_error: 3534540242944.0000\n",
            "Epoch 39/100\n",
            "\u001b[1m22/22\u001b[0m \u001b[32m━━━━━━━━━━━━━━━━━━━━\u001b[0m\u001b[37m\u001b[0m \u001b[1m0s\u001b[0m 5ms/step - loss: 3264721977344.0000 - mean_squared_error: 3264721977344.0000 - val_loss: 3487487229952.0000 - val_mean_squared_error: 3487487229952.0000\n",
            "Epoch 40/100\n",
            "\u001b[1m22/22\u001b[0m \u001b[32m━━━━━━━━━━━━━━━━━━━━\u001b[0m\u001b[37m\u001b[0m \u001b[1m0s\u001b[0m 5ms/step - loss: 2958929428480.0000 - mean_squared_error: 2958929428480.0000 - val_loss: 3554133147648.0000 - val_mean_squared_error: 3554133147648.0000\n",
            "Epoch 41/100\n",
            "\u001b[1m22/22\u001b[0m \u001b[32m━━━━━━━━━━━━━━━━━━━━\u001b[0m\u001b[37m\u001b[0m \u001b[1m0s\u001b[0m 5ms/step - loss: 3270656655360.0000 - mean_squared_error: 3270656655360.0000 - val_loss: 3626208854016.0000 - val_mean_squared_error: 3626208854016.0000\n",
            "Epoch 42/100\n",
            "\u001b[1m22/22\u001b[0m \u001b[32m━━━━━━━━━━━━━━━━━━━━\u001b[0m\u001b[37m\u001b[0m \u001b[1m0s\u001b[0m 7ms/step - loss: 3449147097088.0000 - mean_squared_error: 3449147097088.0000 - val_loss: 3498727964672.0000 - val_mean_squared_error: 3498727964672.0000\n",
            "Epoch 43/100\n",
            "\u001b[1m22/22\u001b[0m \u001b[32m━━━━━━━━━━━━━━━━━━━━\u001b[0m\u001b[37m\u001b[0m \u001b[1m0s\u001b[0m 6ms/step - loss: 3289846644736.0000 - mean_squared_error: 3289846644736.0000 - val_loss: 3498986438656.0000 - val_mean_squared_error: 3498986438656.0000\n",
            "Epoch 44/100\n",
            "\u001b[1m22/22\u001b[0m \u001b[32m━━━━━━━━━━━━━━━━━━━━\u001b[0m\u001b[37m\u001b[0m \u001b[1m0s\u001b[0m 5ms/step - loss: 3146054107136.0000 - mean_squared_error: 3146054107136.0000 - val_loss: 3613644554240.0000 - val_mean_squared_error: 3613644554240.0000\n",
            "Epoch 45/100\n",
            "\u001b[1m22/22\u001b[0m \u001b[32m━━━━━━━━━━━━━━━━━━━━\u001b[0m\u001b[37m\u001b[0m \u001b[1m0s\u001b[0m 6ms/step - loss: 3077961154560.0000 - mean_squared_error: 3077961154560.0000 - val_loss: 3488111394816.0000 - val_mean_squared_error: 3488111394816.0000\n",
            "Epoch 46/100\n",
            "\u001b[1m22/22\u001b[0m \u001b[32m━━━━━━━━━━━━━━━━━━━━\u001b[0m\u001b[37m\u001b[0m \u001b[1m0s\u001b[0m 5ms/step - loss: 2955462049792.0000 - mean_squared_error: 2955462049792.0000 - val_loss: 3503532539904.0000 - val_mean_squared_error: 3503532539904.0000\n",
            "Epoch 47/100\n",
            "\u001b[1m22/22\u001b[0m \u001b[32m━━━━━━━━━━━━━━━━━━━━\u001b[0m\u001b[37m\u001b[0m \u001b[1m0s\u001b[0m 5ms/step - loss: 2836031602688.0000 - mean_squared_error: 2836031602688.0000 - val_loss: 3483944878080.0000 - val_mean_squared_error: 3483944878080.0000\n",
            "Epoch 48/100\n",
            "\u001b[1m22/22\u001b[0m \u001b[32m━━━━━━━━━━━━━━━━━━━━\u001b[0m\u001b[37m\u001b[0m \u001b[1m0s\u001b[0m 6ms/step - loss: 3465437511680.0000 - mean_squared_error: 3465437511680.0000 - val_loss: 3566520500224.0000 - val_mean_squared_error: 3566520500224.0000\n",
            "Epoch 49/100\n",
            "\u001b[1m22/22\u001b[0m \u001b[32m━━━━━━━━━━━━━━━━━━━━\u001b[0m\u001b[37m\u001b[0m \u001b[1m0s\u001b[0m 5ms/step - loss: 3255370514432.0000 - mean_squared_error: 3255370514432.0000 - val_loss: 3485093330944.0000 - val_mean_squared_error: 3485093330944.0000\n",
            "Epoch 50/100\n",
            "\u001b[1m22/22\u001b[0m \u001b[32m━━━━━━━━━━━━━━━━━━━━\u001b[0m\u001b[37m\u001b[0m \u001b[1m0s\u001b[0m 5ms/step - loss: 2912097665024.0000 - mean_squared_error: 2912097665024.0000 - val_loss: 3631156035584.0000 - val_mean_squared_error: 3631156035584.0000\n",
            "Epoch 51/100\n",
            "\u001b[1m22/22\u001b[0m \u001b[32m━━━━━━━━━━━━━━━━━━━━\u001b[0m\u001b[37m\u001b[0m \u001b[1m0s\u001b[0m 7ms/step - loss: 3127942578176.0000 - mean_squared_error: 3127942578176.0000 - val_loss: 3498360963072.0000 - val_mean_squared_error: 3498360963072.0000\n",
            "Epoch 52/100\n",
            "\u001b[1m22/22\u001b[0m \u001b[32m━━━━━━━━━━━━━━━━━━━━\u001b[0m\u001b[37m\u001b[0m \u001b[1m0s\u001b[0m 6ms/step - loss: 2860342575104.0000 - mean_squared_error: 2860342575104.0000 - val_loss: 3476788346880.0000 - val_mean_squared_error: 3476788346880.0000\n",
            "Epoch 53/100\n",
            "\u001b[1m22/22\u001b[0m \u001b[32m━━━━━━━━━━━━━━━━━━━━\u001b[0m\u001b[37m\u001b[0m \u001b[1m0s\u001b[0m 5ms/step - loss: 3084660244480.0000 - mean_squared_error: 3084660244480.0000 - val_loss: 3608048304128.0000 - val_mean_squared_error: 3608048304128.0000\n",
            "Epoch 54/100\n",
            "\u001b[1m22/22\u001b[0m \u001b[32m━━━━━━━━━━━━━━━━━━━━\u001b[0m\u001b[37m\u001b[0m \u001b[1m0s\u001b[0m 5ms/step - loss: 3417033146368.0000 - mean_squared_error: 3417033146368.0000 - val_loss: 3482658275328.0000 - val_mean_squared_error: 3482658275328.0000\n",
            "Epoch 55/100\n",
            "\u001b[1m22/22\u001b[0m \u001b[32m━━━━━━━━━━━━━━━━━━━━\u001b[0m\u001b[37m\u001b[0m \u001b[1m0s\u001b[0m 5ms/step - loss: 2949386862592.0000 - mean_squared_error: 2949386862592.0000 - val_loss: 3485798236160.0000 - val_mean_squared_error: 3485798236160.0000\n",
            "Epoch 56/100\n",
            "\u001b[1m22/22\u001b[0m \u001b[32m━━━━━━━━━━━━━━━━━━━━\u001b[0m\u001b[37m\u001b[0m \u001b[1m0s\u001b[0m 6ms/step - loss: 2827779833856.0000 - mean_squared_error: 2827779833856.0000 - val_loss: 3538364923904.0000 - val_mean_squared_error: 3538364923904.0000\n",
            "Epoch 57/100\n",
            "\u001b[1m22/22\u001b[0m \u001b[32m━━━━━━━━━━━━━━━━━━━━\u001b[0m\u001b[37m\u001b[0m \u001b[1m0s\u001b[0m 7ms/step - loss: 3154388451328.0000 - mean_squared_error: 3154388451328.0000 - val_loss: 3471534718976.0000 - val_mean_squared_error: 3471534718976.0000\n",
            "Epoch 58/100\n",
            "\u001b[1m22/22\u001b[0m \u001b[32m━━━━━━━━━━━━━━━━━━━━\u001b[0m\u001b[37m\u001b[0m \u001b[1m0s\u001b[0m 5ms/step - loss: 3157004648448.0000 - mean_squared_error: 3157004648448.0000 - val_loss: 3469616611328.0000 - val_mean_squared_error: 3469616611328.0000\n",
            "Epoch 59/100\n",
            "\u001b[1m22/22\u001b[0m \u001b[32m━━━━━━━━━━━━━━━━━━━━\u001b[0m\u001b[37m\u001b[0m \u001b[1m0s\u001b[0m 5ms/step - loss: 2792605089792.0000 - mean_squared_error: 2792605089792.0000 - val_loss: 3566826946560.0000 - val_mean_squared_error: 3566826946560.0000\n",
            "Epoch 60/100\n",
            "\u001b[1m22/22\u001b[0m \u001b[32m━━━━━━━━━━━━━━━━━━━━\u001b[0m\u001b[37m\u001b[0m \u001b[1m0s\u001b[0m 6ms/step - loss: 3138483650560.0000 - mean_squared_error: 3138483650560.0000 - val_loss: 3734512861184.0000 - val_mean_squared_error: 3734512861184.0000\n",
            "Epoch 61/100\n",
            "\u001b[1m22/22\u001b[0m \u001b[32m━━━━━━━━━━━━━━━━━━━━\u001b[0m\u001b[37m\u001b[0m \u001b[1m0s\u001b[0m 5ms/step - loss: 2766753497088.0000 - mean_squared_error: 2766753497088.0000 - val_loss: 3778383970304.0000 - val_mean_squared_error: 3778383970304.0000\n",
            "Epoch 62/100\n",
            "\u001b[1m22/22\u001b[0m \u001b[32m━━━━━━━━━━━━━━━━━━━━\u001b[0m\u001b[37m\u001b[0m \u001b[1m0s\u001b[0m 7ms/step - loss: 3080396734464.0000 - mean_squared_error: 3080396734464.0000 - val_loss: 3551363596288.0000 - val_mean_squared_error: 3551363596288.0000\n",
            "Epoch 63/100\n",
            "\u001b[1m22/22\u001b[0m \u001b[32m━━━━━━━━━━━━━━━━━━━━\u001b[0m\u001b[37m\u001b[0m \u001b[1m0s\u001b[0m 7ms/step - loss: 2985449750528.0000 - mean_squared_error: 2985449750528.0000 - val_loss: 3474158518272.0000 - val_mean_squared_error: 3474158518272.0000\n",
            "Epoch 64/100\n",
            "\u001b[1m22/22\u001b[0m \u001b[32m━━━━━━━━━━━━━━━━━━━━\u001b[0m\u001b[37m\u001b[0m \u001b[1m0s\u001b[0m 9ms/step - loss: 2742197157888.0000 - mean_squared_error: 2742197157888.0000 - val_loss: 3606731554816.0000 - val_mean_squared_error: 3606731554816.0000\n",
            "Epoch 65/100\n",
            "\u001b[1m22/22\u001b[0m \u001b[32m━━━━━━━━━━━━━━━━━━━━\u001b[0m\u001b[37m\u001b[0m \u001b[1m0s\u001b[0m 9ms/step - loss: 2614449668096.0000 - mean_squared_error: 2614449668096.0000 - val_loss: 3511866359808.0000 - val_mean_squared_error: 3511866359808.0000\n",
            "Epoch 66/100\n",
            "\u001b[1m22/22\u001b[0m \u001b[32m━━━━━━━━━━━━━━━━━━━━\u001b[0m\u001b[37m\u001b[0m \u001b[1m0s\u001b[0m 8ms/step - loss: 2713327239168.0000 - mean_squared_error: 2713327239168.0000 - val_loss: 3462902054912.0000 - val_mean_squared_error: 3462902054912.0000\n",
            "Epoch 67/100\n",
            "\u001b[1m22/22\u001b[0m \u001b[32m━━━━━━━━━━━━━━━━━━━━\u001b[0m\u001b[37m\u001b[0m \u001b[1m0s\u001b[0m 9ms/step - loss: 2960573333504.0000 - mean_squared_error: 2960573333504.0000 - val_loss: 3469610582016.0000 - val_mean_squared_error: 3469610582016.0000\n",
            "Epoch 68/100\n",
            "\u001b[1m22/22\u001b[0m \u001b[32m━━━━━━━━━━━━━━━━━━━━\u001b[0m\u001b[37m\u001b[0m \u001b[1m0s\u001b[0m 9ms/step - loss: 2721846132736.0000 - mean_squared_error: 2721846132736.0000 - val_loss: 3658787586048.0000 - val_mean_squared_error: 3658787586048.0000\n",
            "Epoch 69/100\n",
            "\u001b[1m22/22\u001b[0m \u001b[32m━━━━━━━━━━━━━━━━━━━━\u001b[0m\u001b[37m\u001b[0m \u001b[1m0s\u001b[0m 9ms/step - loss: 3063900536832.0000 - mean_squared_error: 3063900536832.0000 - val_loss: 3486309941248.0000 - val_mean_squared_error: 3486309941248.0000\n",
            "Epoch 70/100\n",
            "\u001b[1m22/22\u001b[0m \u001b[32m━━━━━━━━━━━━━━━━━━━━\u001b[0m\u001b[37m\u001b[0m \u001b[1m0s\u001b[0m 10ms/step - loss: 2878160764928.0000 - mean_squared_error: 2878160764928.0000 - val_loss: 3779299377152.0000 - val_mean_squared_error: 3779299377152.0000\n",
            "Epoch 71/100\n",
            "\u001b[1m22/22\u001b[0m \u001b[32m━━━━━━━━━━━━━━━━━━━━\u001b[0m\u001b[37m\u001b[0m \u001b[1m0s\u001b[0m 11ms/step - loss: 3242243915776.0000 - mean_squared_error: 3242243915776.0000 - val_loss: 3486626873344.0000 - val_mean_squared_error: 3486626873344.0000\n",
            "Epoch 72/100\n",
            "\u001b[1m22/22\u001b[0m \u001b[32m━━━━━━━━━━━━━━━━━━━━\u001b[0m\u001b[37m\u001b[0m \u001b[1m0s\u001b[0m 9ms/step - loss: 3429272387584.0000 - mean_squared_error: 3429272387584.0000 - val_loss: 3551189794816.0000 - val_mean_squared_error: 3551189794816.0000\n",
            "Epoch 73/100\n",
            "\u001b[1m22/22\u001b[0m \u001b[32m━━━━━━━━━━━━━━━━━━━━\u001b[0m\u001b[37m\u001b[0m \u001b[1m0s\u001b[0m 5ms/step - loss: 2687474073600.0000 - mean_squared_error: 2687474073600.0000 - val_loss: 3645342744576.0000 - val_mean_squared_error: 3645342744576.0000\n",
            "Epoch 74/100\n",
            "\u001b[1m22/22\u001b[0m \u001b[32m━━━━━━━━━━━━━━━━━━━━\u001b[0m\u001b[37m\u001b[0m \u001b[1m0s\u001b[0m 5ms/step - loss: 3135122964480.0000 - mean_squared_error: 3135122964480.0000 - val_loss: 3525782011904.0000 - val_mean_squared_error: 3525782011904.0000\n",
            "Epoch 75/100\n",
            "\u001b[1m22/22\u001b[0m \u001b[32m━━━━━━━━━━━━━━━━━━━━\u001b[0m\u001b[37m\u001b[0m \u001b[1m0s\u001b[0m 6ms/step - loss: 2686249598976.0000 - mean_squared_error: 2686249598976.0000 - val_loss: 3566071971840.0000 - val_mean_squared_error: 3566071971840.0000\n",
            "Epoch 76/100\n",
            "\u001b[1m22/22\u001b[0m \u001b[32m━━━━━━━━━━━━━━━━━━━━\u001b[0m\u001b[37m\u001b[0m \u001b[1m0s\u001b[0m 6ms/step - loss: 2753491632128.0000 - mean_squared_error: 2753491632128.0000 - val_loss: 3658545364992.0000 - val_mean_squared_error: 3658545364992.0000\n",
            "Epoch 77/100\n",
            "\u001b[1m22/22\u001b[0m \u001b[32m━━━━━━━━━━━━━━━━━━━━\u001b[0m\u001b[37m\u001b[0m \u001b[1m0s\u001b[0m 7ms/step - loss: 3528487337984.0000 - mean_squared_error: 3528487337984.0000 - val_loss: 3470706081792.0000 - val_mean_squared_error: 3470706081792.0000\n",
            "Epoch 78/100\n",
            "\u001b[1m22/22\u001b[0m \u001b[32m━━━━━━━━━━━━━━━━━━━━\u001b[0m\u001b[37m\u001b[0m \u001b[1m0s\u001b[0m 5ms/step - loss: 3358840061952.0000 - mean_squared_error: 3358840061952.0000 - val_loss: 3481633292288.0000 - val_mean_squared_error: 3481633292288.0000\n",
            "Epoch 79/100\n",
            "\u001b[1m22/22\u001b[0m \u001b[32m━━━━━━━━━━━━━━━━━━━━\u001b[0m\u001b[37m\u001b[0m \u001b[1m0s\u001b[0m 5ms/step - loss: 3029558886400.0000 - mean_squared_error: 3029558886400.0000 - val_loss: 3761960910848.0000 - val_mean_squared_error: 3761960910848.0000\n",
            "Epoch 80/100\n",
            "\u001b[1m22/22\u001b[0m \u001b[32m━━━━━━━━━━━━━━━━━━━━\u001b[0m\u001b[37m\u001b[0m \u001b[1m0s\u001b[0m 6ms/step - loss: 2944122486784.0000 - mean_squared_error: 2944122486784.0000 - val_loss: 3481406537728.0000 - val_mean_squared_error: 3481406537728.0000\n",
            "Epoch 81/100\n",
            "\u001b[1m22/22\u001b[0m \u001b[32m━━━━━━━━━━━━━━━━━━━━\u001b[0m\u001b[37m\u001b[0m \u001b[1m0s\u001b[0m 6ms/step - loss: 3087843721216.0000 - mean_squared_error: 3087843721216.0000 - val_loss: 3522377285632.0000 - val_mean_squared_error: 3522377285632.0000\n",
            "Epoch 82/100\n",
            "\u001b[1m22/22\u001b[0m \u001b[32m━━━━━━━━━━━━━━━━━━━━\u001b[0m\u001b[37m\u001b[0m \u001b[1m0s\u001b[0m 5ms/step - loss: 3175558414336.0000 - mean_squared_error: 3175558414336.0000 - val_loss: 3732455555072.0000 - val_mean_squared_error: 3732455555072.0000\n",
            "Epoch 83/100\n",
            "\u001b[1m22/22\u001b[0m \u001b[32m━━━━━━━━━━━━━━━━━━━━\u001b[0m\u001b[37m\u001b[0m \u001b[1m0s\u001b[0m 5ms/step - loss: 2864404758528.0000 - mean_squared_error: 2864404758528.0000 - val_loss: 3603154337792.0000 - val_mean_squared_error: 3603154337792.0000\n",
            "Epoch 84/100\n",
            "\u001b[1m22/22\u001b[0m \u001b[32m━━━━━━━━━━━━━━━━━━━━\u001b[0m\u001b[37m\u001b[0m \u001b[1m0s\u001b[0m 7ms/step - loss: 2784578240512.0000 - mean_squared_error: 2784578240512.0000 - val_loss: 3453764239360.0000 - val_mean_squared_error: 3453764239360.0000\n",
            "Epoch 85/100\n",
            "\u001b[1m22/22\u001b[0m \u001b[32m━━━━━━━━━━━━━━━━━━━━\u001b[0m\u001b[37m\u001b[0m \u001b[1m0s\u001b[0m 5ms/step - loss: 2600689467392.0000 - mean_squared_error: 2600689467392.0000 - val_loss: 3498887348224.0000 - val_mean_squared_error: 3498887348224.0000\n",
            "Epoch 86/100\n",
            "\u001b[1m22/22\u001b[0m \u001b[32m━━━━━━━━━━━━━━━━━━━━\u001b[0m\u001b[37m\u001b[0m \u001b[1m0s\u001b[0m 7ms/step - loss: 3163524694016.0000 - mean_squared_error: 3163524694016.0000 - val_loss: 3508659552256.0000 - val_mean_squared_error: 3508659552256.0000\n",
            "Epoch 87/100\n",
            "\u001b[1m22/22\u001b[0m \u001b[32m━━━━━━━━━━━━━━━━━━━━\u001b[0m\u001b[37m\u001b[0m \u001b[1m0s\u001b[0m 5ms/step - loss: 3285851308032.0000 - mean_squared_error: 3285851308032.0000 - val_loss: 3456177799168.0000 - val_mean_squared_error: 3456177799168.0000\n",
            "Epoch 88/100\n",
            "\u001b[1m22/22\u001b[0m \u001b[32m━━━━━━━━━━━━━━━━━━━━\u001b[0m\u001b[37m\u001b[0m \u001b[1m0s\u001b[0m 5ms/step - loss: 3030499459072.0000 - mean_squared_error: 3030499459072.0000 - val_loss: 3519119097856.0000 - val_mean_squared_error: 3519119097856.0000\n",
            "Epoch 89/100\n",
            "\u001b[1m22/22\u001b[0m \u001b[32m━━━━━━━━━━━━━━━━━━━━\u001b[0m\u001b[37m\u001b[0m \u001b[1m0s\u001b[0m 5ms/step - loss: 2586273120256.0000 - mean_squared_error: 2586273120256.0000 - val_loss: 3564189515776.0000 - val_mean_squared_error: 3564189515776.0000\n",
            "Epoch 90/100\n",
            "\u001b[1m22/22\u001b[0m \u001b[32m━━━━━━━━━━━━━━━━━━━━\u001b[0m\u001b[37m\u001b[0m \u001b[1m0s\u001b[0m 5ms/step - loss: 3157291433984.0000 - mean_squared_error: 3157291433984.0000 - val_loss: 3528095694848.0000 - val_mean_squared_error: 3528095694848.0000\n",
            "Epoch 91/100\n",
            "\u001b[1m22/22\u001b[0m \u001b[32m━━━━━━━━━━━━━━━━━━━━\u001b[0m\u001b[37m\u001b[0m \u001b[1m0s\u001b[0m 6ms/step - loss: 2823861829632.0000 - mean_squared_error: 2823861829632.0000 - val_loss: 3456854917120.0000 - val_mean_squared_error: 3456854917120.0000\n",
            "Epoch 92/100\n",
            "\u001b[1m22/22\u001b[0m \u001b[32m━━━━━━━━━━━━━━━━━━━━\u001b[0m\u001b[37m\u001b[0m \u001b[1m0s\u001b[0m 5ms/step - loss: 2772127186944.0000 - mean_squared_error: 2772127186944.0000 - val_loss: 3627422056448.0000 - val_mean_squared_error: 3627422056448.0000\n",
            "Epoch 93/100\n",
            "\u001b[1m22/22\u001b[0m \u001b[32m━━━━━━━━━━━━━━━━━━━━\u001b[0m\u001b[37m\u001b[0m \u001b[1m0s\u001b[0m 5ms/step - loss: 2883222765568.0000 - mean_squared_error: 2883222765568.0000 - val_loss: 3456452001792.0000 - val_mean_squared_error: 3456452001792.0000\n",
            "Epoch 94/100\n",
            "\u001b[1m22/22\u001b[0m \u001b[32m━━━━━━━━━━━━━━━━━━━━\u001b[0m\u001b[37m\u001b[0m \u001b[1m0s\u001b[0m 6ms/step - loss: 3145773350912.0000 - mean_squared_error: 3145773350912.0000 - val_loss: 3502511226880.0000 - val_mean_squared_error: 3502511226880.0000\n",
            "Epoch 95/100\n",
            "\u001b[1m22/22\u001b[0m \u001b[32m━━━━━━━━━━━━━━━━━━━━\u001b[0m\u001b[37m\u001b[0m \u001b[1m0s\u001b[0m 7ms/step - loss: 3460729143296.0000 - mean_squared_error: 3460729143296.0000 - val_loss: 3500179193856.0000 - val_mean_squared_error: 3500179193856.0000\n",
            "Epoch 96/100\n",
            "\u001b[1m22/22\u001b[0m \u001b[32m━━━━━━━━━━━━━━━━━━━━\u001b[0m\u001b[37m\u001b[0m \u001b[1m0s\u001b[0m 5ms/step - loss: 3742133649408.0000 - mean_squared_error: 3742133649408.0000 - val_loss: 3459907321856.0000 - val_mean_squared_error: 3459907321856.0000\n",
            "Epoch 97/100\n",
            "\u001b[1m22/22\u001b[0m \u001b[32m━━━━━━━━━━━━━━━━━━━━\u001b[0m\u001b[37m\u001b[0m \u001b[1m0s\u001b[0m 5ms/step - loss: 2409330114560.0000 - mean_squared_error: 2409330114560.0000 - val_loss: 3521890746368.0000 - val_mean_squared_error: 3521890746368.0000\n",
            "Epoch 98/100\n",
            "\u001b[1m22/22\u001b[0m \u001b[32m━━━━━━━━━━━━━━━━━━━━\u001b[0m\u001b[37m\u001b[0m \u001b[1m0s\u001b[0m 7ms/step - loss: 2794589782016.0000 - mean_squared_error: 2794589782016.0000 - val_loss: 3455774097408.0000 - val_mean_squared_error: 3455774097408.0000\n",
            "Epoch 99/100\n",
            "\u001b[1m22/22\u001b[0m \u001b[32m━━━━━━━━━━━━━━━━━━━━\u001b[0m\u001b[37m\u001b[0m \u001b[1m0s\u001b[0m 6ms/step - loss: 3221799043072.0000 - mean_squared_error: 3221799043072.0000 - val_loss: 3456694747136.0000 - val_mean_squared_error: 3456694747136.0000\n",
            "Epoch 100/100\n",
            "\u001b[1m22/22\u001b[0m \u001b[32m━━━━━━━━━━━━━━━━━━━━\u001b[0m\u001b[37m\u001b[0m \u001b[1m0s\u001b[0m 7ms/step - loss: 2796362924032.0000 - mean_squared_error: 2796362924032.0000 - val_loss: 3520036077568.0000 - val_mean_squared_error: 3520036077568.0000\n"
          ]
        }
      ]
    },
    {
      "cell_type": "code",
      "source": [
        "train_loss, train_mse = model.evaluate(X_train, y_train)\n",
        "print(f\"Training Loss: {train_loss}, Training MSE: {train_mse}\")\n",
        "\n",
        "test_loss, test_mse = model.evaluate(X_test, y_test)\n",
        "print(f\"Testing Loss: {test_loss}, Testing MSE: {test_mse}\")"
      ],
      "metadata": {
        "colab": {
          "base_uri": "https://localhost:8080/"
        },
        "id": "i4J08Y3aQGAn",
        "outputId": "474749f4-fcf4-46f2-fdef-8ef4964bb672"
      },
      "execution_count": 6,
      "outputs": [
        {
          "output_type": "stream",
          "name": "stdout",
          "text": [
            "\u001b[1m14/14\u001b[0m \u001b[32m━━━━━━━━━━━━━━━━━━━━\u001b[0m\u001b[37m\u001b[0m \u001b[1m0s\u001b[0m 5ms/step - loss: 3092580401152.0000 - mean_squared_error: 3092580401152.0000 \n",
            "Training Loss: 3036464807936.0, Training MSE: 3036464807936.0\n",
            "\u001b[1m4/4\u001b[0m \u001b[32m━━━━━━━━━━━━━━━━━━━━\u001b[0m\u001b[37m\u001b[0m \u001b[1m0s\u001b[0m 14ms/step - loss: 4974325530624.0000 - mean_squared_error: 4974325530624.0000\n",
            "Testing Loss: 4870204030976.0, Testing MSE: 4870204030976.0\n"
          ]
        }
      ]
    },
    {
      "cell_type": "code",
      "source": [
        "model.save(\"housing_price_model.h5\")"
      ],
      "metadata": {
        "colab": {
          "base_uri": "https://localhost:8080/"
        },
        "id": "2ahYX46sQKoQ",
        "outputId": "d61ce3ea-fb52-4ce1-8088-90cac0aa6823"
      },
      "execution_count": 7,
      "outputs": [
        {
          "output_type": "stream",
          "name": "stderr",
          "text": [
            "WARNING:absl:You are saving your model as an HDF5 file via `model.save()` or `keras.saving.save_model(model)`. This file format is considered legacy. We recommend using instead the native Keras format, e.g. `model.save('my_model.keras')` or `keras.saving.save_model(model, 'my_model.keras')`. \n"
          ]
        }
      ]
    },
    {
      "cell_type": "code",
      "source": [
        "\n",
        "selected_numerical_features = ['area', 'bedrooms', 'bathrooms']\n",
        "numerical_features_indices = [X.columns.get_loc(col) for col in selected_numerical_features]\n",
        "\n",
        "new_scaler = StandardScaler()\n",
        "\n",
        "X_train_selected = X_train[selected_numerical_features]\n",
        "X_test_selected = X_test[selected_numerical_features]\n",
        "\n",
        "X_train_selected = new_scaler.fit_transform(X_train_selected)\n",
        "X_test_selected = new_scaler.transform(X_test_selected)\n",
        "\n",
        "X_train.loc[:, selected_numerical_features] = X_train_selected\n",
        "X_test.loc[:, selected_numerical_features] = X_test_selected\n",
        "\n",
        "\n",
        "new_data_scaled = new_scaler.transform(new_data)"
      ],
      "metadata": {
        "colab": {
          "base_uri": "https://localhost:8080/"
        },
        "id": "Ow_I2t9HQORY",
        "outputId": "e9554c3a-72e1-4cca-e2b1-5c3c49383876"
      },
      "execution_count": 11,
      "outputs": [
        {
          "output_type": "stream",
          "name": "stderr",
          "text": [
            "/usr/local/lib/python3.11/dist-packages/sklearn/utils/validation.py:2739: UserWarning: X does not have valid feature names, but StandardScaler was fitted with feature names\n",
            "  warnings.warn(\n"
          ]
        }
      ]
    }
  ]
}