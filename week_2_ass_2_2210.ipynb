{
  "nbformat": 4,
  "nbformat_minor": 0,
  "metadata": {
    "colab": {
      "provenance": [],
      "authorship_tag": "ABX9TyNRrmTf9Vuo79nHM/UB271n",
      "include_colab_link": true
    },
    "kernelspec": {
      "name": "python3",
      "display_name": "Python 3"
    },
    "language_info": {
      "name": "python"
    }
  },
  "cells": [
    {
      "cell_type": "markdown",
      "metadata": {
        "id": "view-in-github",
        "colab_type": "text"
      },
      "source": [
        "<a href=\"https://colab.research.google.com/github/2303A52210/Gen-AI/blob/main/week_2_ass_2_2210.ipynb\" target=\"_parent\"><img src=\"https://colab.research.google.com/assets/colab-badge.svg\" alt=\"Open In Colab\"/></a>"
      ]
    },
    {
      "cell_type": "code",
      "source": [
        "from scipy.optimize import linprog\n",
        "c = [-6, -5]\n",
        "A = [[1, 1], [3, 2]]\n",
        "b = [5, 12]\n",
        "x_bounds = (0, None)\n",
        "y_bounds = (0, None)\n",
        "result = linprog(c, A_ub=A, b_ub=b, bounds=[x_bounds, y_bounds], method='highs')\n",
        "if result.success:\n",
        "    print(f\"Optimal number of units of A (x): {result.x[0]}\")\n",
        "    print(f\"Optimal number of units of B (y): {result.x[1]}\")\n",
        "    print(f\"Maximum profit: Rs {-result.fun}\")\n",
        "else:\n",
        "    print(\"No solution found.\")\n"
      ],
      "metadata": {
        "colab": {
          "base_uri": "https://localhost:8080/"
        },
        "id": "ek4jNBEfF4KK",
        "outputId": "8a273bc5-f120-4f9c-ceda-07e5d09bd1e2"
      },
      "execution_count": 1,
      "outputs": [
        {
          "output_type": "stream",
          "name": "stdout",
          "text": [
            "Optimal number of units of A (x): 2.0\n",
            "Optimal number of units of B (y): 3.0\n",
            "Maximum profit: Rs 27.0\n"
          ]
        }
      ]
    },
    {
      "cell_type": "code",
      "source": [
        "from scipy.optimize import linprog\n",
        "profit_per_hectare = [-50, -120]\n",
        "constraints = [\n",
        "    [7000, 2000],\n",
        "    [10, 30],\n",
        "    [1, 1]\n",
        "]\n",
        "bounds = [700000, 1200, 110]\n",
        "x_bounds = (0, None)\n",
        "y_bounds = (0, None)\n",
        "result = linprog(\n",
        "    c=profit_per_hectare,\n",
        "    A_ub=constraints,\n",
        "    b_ub=bounds,\n",
        "    bounds=[x_bounds, y_bounds],\n",
        "    method='highs'\n",
        ")\n",
        "if result.success:\n",
        "    optimal_wheat = result.x[0]\n",
        "    optimal_barley = result.x[1]\n",
        "    optimal_profit = -result.fun\n",
        "    print(\"Optimal Solution:\")\n",
        "    print(f\"Wheat: {optimal_wheat:.2f} hectares\")\n",
        "    print(f\"Barley: {optimal_barley:.2f} hectares\")\n",
        "    print(f\"Maximum Profit: Rs. {optimal_profit:.2f}\")\n",
        "else:\n",
        "    print(\"Optimization failed:\", result.message)"
      ],
      "metadata": {
        "colab": {
          "base_uri": "https://localhost:8080/"
        },
        "id": "EpdfslEhF8Lx",
        "outputId": "7060c43e-07ff-4703-b978-937436964b03"
      },
      "execution_count": 2,
      "outputs": [
        {
          "output_type": "stream",
          "name": "stdout",
          "text": [
            "Optimal Solution:\n",
            "Wheat: 97.89 hectares\n",
            "Barley: 7.37 hectares\n",
            "Maximum Profit: Rs. 5778.95\n"
          ]
        }
      ]
    }
  ]
}